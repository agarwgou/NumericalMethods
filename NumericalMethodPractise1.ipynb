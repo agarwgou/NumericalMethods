{
 "cells": [
  {
   "cell_type": "code",
   "execution_count": 4,
   "id": "8cbf7ea6",
   "metadata": {
    "scrolled": false
   },
   "outputs": [],
   "source": [
    "import numpy as np\n",
    "import pandas as pd\n",
    "from source import *"
   ]
  },
  {
   "cell_type": "code",
   "execution_count": 2,
   "id": "b2ee55d8",
   "metadata": {},
   "outputs": [
    {
     "name": "stdout",
     "output_type": "stream",
     "text": [
      "add \t 1.379269707999999e-08\n",
      "mul \t 2.0187919170000015e-08\n",
      "div \t 1.3587346250000003e-08\n",
      "log \t 1.4262294417000004e-07\n",
      "exp \t 7.721012959e-08\n",
      "sqrt \t 7.669291915999999e-08\n",
      "m1 \t 8.975326624999994e-07\n",
      "m2 \t 5.343307333000013e-07\n"
     ]
    }
   ],
   "source": [
    "    repeat = int(1e8)\n",
    "    opTiming(\"x = 5.0 + 7.0\", \"add\", repeat)\n",
    "    opTiming(\"x = 5.0 * 7.0\", \"mul\", repeat)\n",
    "    opTiming(\"x = 5.0 / 7.0\", \"div\", repeat)\n",
    "    opTiming(\"x = math.log(7.0)\", \"log\", repeat)\n",
    "    opTiming(\"x = math.exp(7.0)\", \"exp\", repeat)\n",
    "    opTiming(\"x = math.sqrt(7.0)\", \"sqrt\", repeat)\n",
    "\n",
    "    m1 = \"\"\"\n",
    "    S = 100;K = 105;vol = 0.1;t=2;mu=0.01\n",
    "    d1 = (math.log(S * math.exp(mu*t) / K) + vol * vol * t / 2) / vol / math.sqrt(t)\n",
    "    \"\"\"\n",
    "    m2 = \"\"\"\n",
    "    S = 100;K = 105;vol = 0.1;t=2;mu=0.01\n",
    "    stdev = vol * math.sqrt(t)\n",
    "    d1 = (math.log(S / K) + mu*t) / stdev + stdev / 2\n",
    "    \"\"\"\n",
    "    repeat = int(1e7)\n",
    "    opTiming(m1, 'm1', repeat)\n",
    "    opTiming(m2, 'm2', repeat)"
   ]
  },
  {
   "cell_type": "code",
   "execution_count": 5,
   "id": "bb371711",
   "metadata": {},
   "outputs": [
    {
     "name": "stdout",
     "output_type": "stream",
     "text": [
      "Spread Option Price/Std:  103.27625461188438 0.3989069242893653\n"
     ]
    }
   ],
   "source": [
    "    payoff = lambda S1, S2: max(S1, S2)\n",
    "    pv, se = mcSpread(payoff, 100, 100, 1, 0.05, 0.02, 0.03, 0.1, 0.15, 0.5, 1024, 100)\n",
    "    print(\"Spread Option Price/Std: \", pv, se)"
   ]
  },
  {
   "cell_type": "code",
   "execution_count": 6,
   "id": "e92c0f58",
   "metadata": {},
   "outputs": [
    {
     "data": {
      "text/plain": [
       "7.798504987524955"
      ]
     },
     "execution_count": 6,
     "metadata": {},
     "output_type": "execute_result"
    }
   ],
   "source": [
    "oneStepBinomial(S=100, r=0.01, u=1.2, d=0.8, optType=PayoffType.Call, K=105, T=1.0)"
   ]
  },
  {
   "cell_type": "code",
   "execution_count": 9,
   "id": "c205f3c0",
   "metadata": {},
   "outputs": [
    {
     "name": "stdout",
     "output_type": "stream",
     "text": [
      "8980.2675\n",
      "-7.82310962677002e-08\n",
      "True\n",
      "z1 =  234567.781864925\n",
      "z2 =  234567.75\n"
     ]
    }
   ],
   "source": [
    "    x = 10776321\n",
    "    nsteps = 1200\n",
    "    s = x / nsteps\n",
    "    y = 0\n",
    "    print(s)\n",
    "    for i in range(nsteps):\n",
    "        y += s\n",
    "    print(x - y)\n",
    "\n",
    "    x = 10.56\n",
    "    print(x == x + 5e-16)\n",
    "\n",
    "    x = 0.1234567891234567890\n",
    "    y = 0.1234567891\n",
    "    scale = 1e16\n",
    "    z1 = (x-y) * scale\n",
    "    print(\"z1 = \", z1)\n",
    "\n",
    "    z2 = (x*scale - y*scale)\n",
    "    print(\"z2 = \", z2)\n"
   ]
  },
  {
   "cell_type": "code",
   "execution_count": 10,
   "id": "ba7a7542",
   "metadata": {},
   "outputs": [
    {
     "data": {
      "text/plain": [
       "10776321.0"
      ]
     },
     "execution_count": 10,
     "metadata": {},
     "output_type": "execute_result"
    }
   ],
   "source": [
    "8980.2675*1200"
   ]
  }
 ],
 "metadata": {
  "kernelspec": {
   "display_name": "Python 3.9.6 64-bit",
   "language": "python",
   "name": "python3"
  },
  "language_info": {
   "codemirror_mode": {
    "name": "ipython",
    "version": 3
   },
   "file_extension": ".py",
   "mimetype": "text/x-python",
   "name": "python",
   "nbconvert_exporter": "python",
   "pygments_lexer": "ipython3",
   "version": "3.9.6"
  },
  "vscode": {
   "interpreter": {
    "hash": "31f2aee4e71d21fbe5cf8b01ff0e069b9275f58929596ceb00d14d90e3e16cd6"
   }
  }
 },
 "nbformat": 4,
 "nbformat_minor": 5
}
