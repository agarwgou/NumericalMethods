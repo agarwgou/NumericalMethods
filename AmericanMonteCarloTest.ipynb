{
 "cells": [
  {
   "cell_type": "code",
   "execution_count": 1,
   "metadata": {},
   "outputs": [],
   "source": [
    "import math\n",
    "import numpy as np\n",
    "np.random.seed(23456)\n",
    "from matplotlib import pyplot as plt\n",
    "from source import *"
   ]
  },
  {
   "cell_type": "code",
   "execution_count": 2,
   "metadata": {},
   "outputs": [],
   "source": [
    "S0=100\n",
    "sigma = 0.20978\n",
    "r=0.01\n",
    "div=0.001\n",
    "mu = r - div\n",
    "T=1\n",
    "K=110\n",
    "\n",
    "I=1000000\n",
    "M=12\n",
    "dt=T/M\n",
    "df=math.exp(-r*dt)"
   ]
  },
  {
   "cell_type": "code",
   "execution_count": 3,
   "metadata": {},
   "outputs": [
    {
     "name": "stdout",
     "output_type": "stream",
     "text": [
      "4.981503039726142\n"
     ]
    }
   ],
   "source": [
    "## Closed form\n",
    "def cnorm(x):\n",
    "    return (1.0 + math.erf(x / math.sqrt(2.0))) / 2.0\n",
    "\n",
    "d1 = (np.log(S0/K) + (r+((sigma**2)/2))*T)/(sigma* np.sqrt(T))\n",
    "d2 = (np.log(S0/K) + (r-((sigma**2)/2))*T)/(sigma* np.sqrt(T))\n",
    "\n",
    "p = S0*cnorm(d1) - K*np.exp(-r*T)*cnorm(d2)\n",
    "\n",
    "print(p)\n"
   ]
  },
  {
   "cell_type": "code",
   "execution_count": 4,
   "metadata": {},
   "outputs": [
    {
     "name": "stdout",
     "output_type": "stream",
     "text": [
      "4.985534942029281\n"
     ]
    }
   ],
   "source": [
    "## MC - Only simulate last timepoint\n",
    "N = np.random.standard_normal(I)\n",
    "Sum = 0\n",
    "for i in N:\n",
    "    S = S0*np.exp((r - sigma*sigma/2)*T + sigma*np.sqrt(T)*i)\n",
    "    Payoff = max(S-K,0)\n",
    "    Sum = Sum + Payoff\n",
    "\n",
    "Sum = Sum*np.exp(-r*T)\n",
    "print(Sum/len(N))"
   ]
  },
  {
   "cell_type": "code",
   "execution_count": 5,
   "metadata": {},
   "outputs": [
    {
     "name": "stdout",
     "output_type": "stream",
     "text": [
      "4.979386036259684\n"
     ]
    }
   ],
   "source": [
    "## MC - Simulate all timepoints\n",
    "delta_X = (r - sigma*sigma/2)*dt + (sigma * np.sqrt(dt)* np.random.standard_normal((I,M)))\n",
    "delta_X = np.hstack((np.reshape(np.zeros(I),(-1,1)), delta_X))\n",
    "S=S0*np.exp(np.cumsum(delta_X, axis=1))\n",
    "price = np.exp(-r*T)*sum(np.maximum(S.T[-1]-K,0))/len(S.T[-1])\n",
    "print(price)"
   ]
  },
  {
   "cell_type": "code",
   "execution_count": 21,
   "metadata": {},
   "outputs": [
    {
     "name": "stdout",
     "output_type": "stream",
     "text": [
      "13.978288912276618\n"
     ]
    }
   ],
   "source": [
    "## American Option\n",
    "delta_X = (r - sigma*sigma/2)*dt + (sigma * np.sqrt(dt)* np.random.standard_normal((I,M)))\n",
    "delta_X = np.hstack((np.reshape(np.zeros(I),(-1,1)), delta_X))\n",
    "S=S0*np.exp(np.cumsum(delta_X, axis=1))\n",
    "\n",
    "h = np.maximum(K-S,0)\n",
    "V= h.T[-1]\n",
    "for i in range(M-1,0,-1):\n",
    "    rg = np.polyfit(S.T[i],V*df,5)\n",
    "    C = np.polyval(rg,S.T[i])\n",
    "    V=np.where(h.T[i]>C,h.T[i],V*df)\n",
    "\n",
    "V0 = df * np.average(V)\n",
    "print(V0)"
   ]
  },
  {
   "cell_type": "code",
   "execution_count": 25,
   "metadata": {},
   "outputs": [
    {
     "data": {
      "text/plain": [
       "13.982305124646476"
      ]
     },
     "execution_count": 25,
     "metadata": {},
     "output_type": "execute_result"
    }
   ],
   "source": [
    "## American Option using function\n",
    "trd = AmericanOption(T,K,PayoffType.Put)\n",
    "lsmcAmerican(S0, r, div, sigma, I, M, trd)\n"
   ]
  }
 ],
 "metadata": {
  "kernelspec": {
   "display_name": "Python 3.11.3 64-bit",
   "language": "python",
   "name": "python3"
  },
  "language_info": {
   "codemirror_mode": {
    "name": "ipython",
    "version": 3
   },
   "file_extension": ".py",
   "mimetype": "text/x-python",
   "name": "python",
   "nbconvert_exporter": "python",
   "pygments_lexer": "ipython3",
   "version": "3.11.3"
  },
  "orig_nbformat": 4,
  "vscode": {
   "interpreter": {
    "hash": "aee8b7b246df8f9039afb4144a1f6fd8d2ca17a180786b69acc140d282b71a49"
   }
  }
 },
 "nbformat": 4,
 "nbformat_minor": 2
}
